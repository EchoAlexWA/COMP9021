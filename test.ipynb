{
 "cells": [
  {
   "cell_type": "code",
   "execution_count": 1,
   "metadata": {},
   "outputs": [],
   "source": [
    "def chage_list(L):\n",
    "    L[0]='Hello'\n",
    "    print(L)"
   ]
  },
  {
   "cell_type": "code",
   "execution_count": 3,
   "metadata": {},
   "outputs": [
    {
     "name": "stdout",
     "output_type": "stream",
     "text": [
      "['1', 'Hello', 'World', '!']\n",
      "['Hello', 'Hello', 'World', '!']\n",
      "['Hello', 'Hello', 'World', '!']\n"
     ]
    }
   ],
   "source": [
    "L=['1','Hello','World','!']\n",
    "print(L)\n",
    "\n",
    "chage_list(L)\n",
    "print(L)"
   ]
  },
  {
   "cell_type": "code",
   "execution_count": 4,
   "metadata": {},
   "outputs": [
    {
     "name": "stdout",
     "output_type": "stream",
     "text": [
      "2 1\n"
     ]
    }
   ],
   "source": [
    "A,B=1,2\n",
    "A,B=B,A\n",
    "print(A,B)"
   ]
  }
 ],
 "metadata": {
  "kernelspec": {
   "display_name": "pippkg",
   "language": "python",
   "name": "python3"
  },
  "language_info": {
   "codemirror_mode": {
    "name": "ipython",
    "version": 3
   },
   "file_extension": ".py",
   "mimetype": "text/x-python",
   "name": "python",
   "nbconvert_exporter": "python",
   "pygments_lexer": "ipython3",
   "version": "3.12.4"
  }
 },
 "nbformat": 4,
 "nbformat_minor": 2
}
